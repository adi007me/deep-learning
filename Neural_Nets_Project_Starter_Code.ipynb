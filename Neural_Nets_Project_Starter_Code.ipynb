{
 "cells": [
  {
   "cell_type": "markdown",
   "metadata": {},
   "source": [
    "# Gesture Recognition\n",
    "In this group project, you are going to build a 3D Conv model that will be able to predict the 5 gestures correctly. Please import the following libraries to get started."
   ]
  },
  {
   "cell_type": "code",
   "execution_count": 1,
   "metadata": {},
   "outputs": [],
   "source": [
    "import numpy as np\n",
    "import os\n",
    "from scipy.misc import imread, imresize #Aditya\n",
    "import datetime\n",
    "import os\n",
    "import matplotlib.pyplot as plt\n",
    "from skimage import exposure\n",
    "import random"
   ]
  },
  {
   "cell_type": "markdown",
   "metadata": {},
   "source": [
    "We set the random seed so that the results don't vary drastically."
   ]
  },
  {
   "cell_type": "code",
   "execution_count": 2,
   "metadata": {},
   "outputs": [
    {
     "name": "stderr",
     "output_type": "stream",
     "text": [
      "Using TensorFlow backend.\n"
     ]
    }
   ],
   "source": [
    "np.random.seed(30)\n",
    "import random as rn\n",
    "rn.seed(30)\n",
    "from keras import backend as K\n",
    "import tensorflow as tf\n",
    "tf.set_random_seed(30)"
   ]
  },
  {
   "cell_type": "code",
   "execution_count": 3,
   "metadata": {},
   "outputs": [],
   "source": [
    "# function to plot n images using subplots\n",
    "def plot_image(images, captions=None, cmap=None ):\n",
    "    f, axes = plt.subplots(1, len(images), sharey=True)\n",
    "    f.set_figwidth(15)\n",
    "    for ax,image in zip(axes, images):\n",
    "        ax.imshow(image, cmap)"
   ]
  },
  {
   "cell_type": "markdown",
   "metadata": {},
   "source": [
    "In this block, you read the folder names for training and validation. You also set the `batch_size` here. Note that you set the batch size in such a way that you are able to use the GPU in full capacity. You keep increasing the batch size until the machine throws an error."
   ]
  },
  {
   "cell_type": "code",
   "execution_count": 4,
   "metadata": {},
   "outputs": [],
   "source": [
    "# train_doc = np.random.permutation(open('/notebooks/storage/Final_data/Collated_training/train.csv').readlines())\n",
    "# val_doc = np.random.permutation(open('/notebooks/storage/Final_data/Collated_training/val.csv').readlines())\n",
    "\n",
    "train_doc = np.random.permutation(open('Project_data/train.csv').readlines())\n",
    "val_doc = np.random.permutation(open('Project_data/val.csv').readlines())\n",
    "\n",
    "# For local\n",
    "# train_doc = np.random.permutation(open('Project_data/Project_data/train.csv').readlines())\n",
    "# val_doc = np.random.permutation(open('Project_data/Project_data/val.csv').readlines())\n",
    "\n",
    "batch_size = 3 #experiment with the batch size\n",
    "img_size = 150 #update\n",
    "# interval = list(range(15,30,5))\n",
    "# interval.append(29)\n",
    "interval = [0,2,4,6,8,10,12,14,15,17,19,21,23,25,27,29]\n",
    "frame_count=30"
   ]
  },
  {
   "cell_type": "code",
   "execution_count": 5,
   "metadata": {},
   "outputs": [],
   "source": [
    "def normalize(input):\n",
    "    return (input - np.min(input))/(np.max(input) - np.min(input))"
   ]
  },
  {
   "cell_type": "markdown",
   "metadata": {},
   "source": [
    "## Generator\n",
    "This is one of the most important part of the code. The overall structure of the generator has been given. In the generator, you are going to preprocess the images as you have images of 2 different dimensions as well as create a batch of video frames. You have to experiment with `img_idx`, `y`,`z` and normalization such that you get high accuracy."
   ]
  },
  {
   "cell_type": "code",
   "execution_count": 6,
   "metadata": {},
   "outputs": [],
   "source": [
    "def generator(source_path, folder_list, batch_size, ablation_size = 0, augmentation=False):\n",
    "    print( 'Source path = ', source_path, '; batch size =', batch_size)\n",
    "    img_idx = interval#update #Aditya  #create a list of image numbers you want to use for a particular video\n",
    "    \n",
    "    if ablation_size is not 0:\n",
    "        folder_list = folder_list[:ablation_size]\n",
    "    \n",
    "    while True:\n",
    "        t = np.random.permutation(folder_list)\n",
    "        num_batches = len(t)//batch_size #Aditya # calculate the number of batches\n",
    "        for batch in range(num_batches): # we iterate over the number of batches\n",
    "            x = len(img_idx)\n",
    "            y = img_size\n",
    "            z = img_size\n",
    "            batch_data = np.zeros((batch_size,x,y,z,3)) # x is the number of images you use for each video, (y,z) is the final size of the input images and 3 is the number of channels RGB\n",
    "            batch_data_aug = np.zeros((batch_size,x,y,z,3))\n",
    "            \n",
    "            batch_labels = np.zeros((batch_size,5)) # batch_labels is the one hot representation of the output\n",
    "            gamma = np.random.uniform(low=0.2, high=0.9)\n",
    "                        \n",
    "            for folder in range(batch_size): # iterate over the batch_size\n",
    "                imgs = os.listdir(source_path+'/'+ t[folder + (batch*batch_size)].split(';')[0]) # read all the images in the folder\n",
    "                for idx,item in enumerate(img_idx): #  Iterate iver the frames/images of a folder to read them in\n",
    "                    image = imread(source_path+'/'+ t[folder + (batch*batch_size)].strip().split(';')[0]+'/'+imgs[item]).astype(np.float32)\n",
    "                    \n",
    "                    #crop the images and resize them. Note that the images are of 2 different shape \n",
    "                    \n",
    "                    # update\n",
    "                    w, h, _ = image.shape\n",
    "                    crop = 0\n",
    "                    \n",
    "                    if (h > 200):\n",
    "                        crop = 30\n",
    "                        image[:crop, :] = 0\n",
    "                        image[-1:-crop, :] = 0\n",
    "                    \n",
    "                    image = image[crop:h - crop, crop:w-crop, : ]\n",
    "                      \n",
    "                    \n",
    "                    #and the conv3D will throw error if the inputs in a batch have different shapes\n",
    "                    image_aug = exposure.adjust_gamma(image, gamma=gamma)\n",
    "                    \n",
    "                    image_resized = imresize(image, size=(img_size,img_size)) #Aditya\n",
    "                    image_aug_resized = imresize(image_aug, size=(img_size,img_size))\n",
    "                    \n",
    "                    image = image.astype('float32')\n",
    "                    image_aug_resized = image_aug_resized.astype('float32')\n",
    "                    \n",
    "#                     print(normalize(image_resized[:,:,0]))\n",
    "\n",
    "                    # Aditya - pending normalization\n",
    "                    batch_data[folder,idx,:,:,0] = normalize(image_resized[:,:,0])#normalise and feed in the image\n",
    "                    batch_data[folder,idx,:,:,1] = normalize(image_resized[:,:,1])#normalise and feed in the image\n",
    "                    batch_data[folder,idx,:,:,2] = normalize(image_resized[:,:,2])#normalise and feed in the image\n",
    "                \n",
    "                    batch_data_aug[folder,idx,:,:,0] = normalize(image_aug_resized[:,:,0])#normalise and feed in the image\n",
    "                    batch_data_aug[folder,idx,:,:,1] = normalize(image_aug_resized[:,:,1])#normalise and feed in the image\n",
    "                    batch_data_aug[folder,idx,:,:,2] = normalize(image_aug_resized[:,:,2])#normalise and feed in the image\n",
    "                \n",
    "                    \n",
    "                    \n",
    "                batch_labels[folder, int(t[folder + (batch*batch_size)].strip().split(';')[2])] = 1\n",
    "\n",
    "            if augmentation:\n",
    "                yield np.concatenate([batch_data, batch_data_aug]), np.concatenate([batch_labels, batch_labels])\n",
    "            else:\n",
    "                yield batch_data, batch_labels\n",
    "\n",
    "        # write the code for the remaining data points which are left after full batches\n",
    "        remainder = len(t) % batch_size\n",
    "        if(remainder != 0):\n",
    "            x = len(img_idx)\n",
    "            y = img_size\n",
    "            z = img_size\n",
    "            batch_data = np.zeros((remainder,x,y,z,3))\n",
    "            batch_data_aug = np.zeros((remainder,x,y,z,3))\n",
    "            \n",
    "            batch_labels = np.zeros((remainder, 5))\n",
    "            \n",
    "            gamma = np.random.uniform(low=0.3, high=0.9)\n",
    "            t = t[-remainder:]\n",
    "            for folder in range(remainder): # iterate over the batch_size\n",
    "                imgs = os.listdir(source_path+'/'+ t[folder].split(';')[0]) # read all the images in the folder\n",
    "                for idx,item in enumerate(img_idx): #  Iterate iver the frames/images of a folder to read them in\n",
    "                    image = imread(source_path+'/'+ t[folder].strip().split(';')[0]+'/'+ imgs[item]).astype(np.float32)\n",
    "                   \n",
    "                    #crop the images and resize them. Note that the images are of 2 different shape\n",
    "                    w, h, _ = image.shape\n",
    "                    crop = 0\n",
    "                    \n",
    "                    if (h > 200):\n",
    "                        crop = 30\n",
    "                        image[:crop, :] = 0\n",
    "                        image[-1:-crop, :] = 0\n",
    "                    \n",
    "                    image = image[crop:h - crop, crop:w-crop, : ]\n",
    "                    \n",
    "                    image_aug = exposure.adjust_gamma(image, gamma=gamma)\n",
    "                                        \n",
    "                    #and the conv3D will throw error if the inputs in a batch have different shapes\n",
    "                    image = imresize(image, (img_size, img_size))     \n",
    "                    image_aug_resized = imresize(image_aug, size=(img_size,img_size))\n",
    "                    \n",
    "                    image = image.astype('float32')\n",
    "                    image_aug_resized = image_aug_resized.astype('float32')\n",
    "                   \n",
    "                    batch_data[folder,idx,:,:,0] = normalize(image[:,:,0])#normalise and feed in the image\n",
    "                    batch_data[folder,idx,:,:,1] = normalize(image[:,:,1])#normalise and feed in the image\n",
    "                    batch_data[folder,idx,:,:,2] = normalize(image[:,:,2])#normalise and feed in the image\n",
    "                    \n",
    "                    batch_data_aug[folder,idx,:,:,0] = normalize(image_aug_resized[:,:,0])#normalise and feed in the image\n",
    "                    batch_data_aug[folder,idx,:,:,1] = normalize(image_aug_resized[:,:,1])#normalise and feed in the image\n",
    "                    batch_data_aug[folder,idx,:,:,2] = normalize(image_aug_resized[:,:,2])#normalise and feed in the image\n",
    "                   \n",
    "                batch_labels[folder, int(t[folder].strip().split(';')[2])] = 1\n",
    "            \n",
    "#             yield batch_data, batch_labels #you yield the batch_data and the batch_labels, remember what does yield do\n",
    "            if augmentation:\n",
    "                yield np.concatenate([batch_data, batch_data_aug]), np.concatenate([batch_labels, batch_labels])\n",
    "            else:\n",
    "                yield batch_data, batch_labels"
   ]
  },
  {
   "cell_type": "code",
   "execution_count": 7,
   "metadata": {},
   "outputs": [],
   "source": [
    "# train_path = 'Project_data/train'\n",
    "# test_images_generator = generator(train_path, train_doc, batch_size, ablation_size=100)\n",
    "\n",
    "# test_images = []\n",
    "# counter = 0\n",
    "# for test_img in test_images_generator:\n",
    "#     plot_image(test_img[0][0])\n",
    "    \n",
    "    \n",
    "#     counter = counter + 1\n",
    "#     if counter is 50:\n",
    "#         break;"
   ]
  },
  {
   "cell_type": "code",
   "execution_count": 8,
   "metadata": {},
   "outputs": [],
   "source": [
    "# train_path = 'Project_data/train'\n",
    "# test_images_generator = generator(train_path, train_doc, batch_size, ablation_size=10)\n",
    "\n",
    "# test_images = []\n",
    "# counter = 0\n",
    "# for test_img in test_images_generator:\n",
    "#     plot_image(test_img[0][0])\n",
    "    \n",
    "    \n",
    "#     counter = counter + 1\n",
    "#     if counter is 10:\n",
    "#         break;"
   ]
  },
  {
   "cell_type": "code",
   "execution_count": null,
   "metadata": {},
   "outputs": [],
   "source": []
  },
  {
   "cell_type": "code",
   "execution_count": null,
   "metadata": {},
   "outputs": [],
   "source": []
  },
  {
   "cell_type": "markdown",
   "metadata": {},
   "source": [
    "Note here that a video is represented above in the generator as (number of images, height, width, number of channels). Take this into consideration while creating the model architecture."
   ]
  },
  {
   "cell_type": "code",
   "execution_count": 9,
   "metadata": {},
   "outputs": [
    {
     "name": "stdout",
     "output_type": "stream",
     "text": [
      "# training sequences = 663\n",
      "# validation sequences = 100\n",
      "# epochs = 50\n"
     ]
    }
   ],
   "source": [
    "# curr_dt_time = datetime.datetime.now()\n",
    "# train_path = '/notebooks/storage/Final_data/Collated_training/train'\n",
    "# val_path = '/notebooks/storage/Final_data/Collated_training/val'\n",
    "# num_train_sequences = len(train_doc)\n",
    "# print('# training sequences =', num_train_sequences)\n",
    "# num_val_sequences = len(val_doc)\n",
    "# print('# validation sequences =', num_val_sequences)\n",
    "# num_epochs = # choose the number of epochs\n",
    "# print ('# epochs =', num_epochs)\n",
    "\n",
    "curr_dt_time = datetime.datetime.now()\n",
    "train_path = 'Project_data/train'\n",
    "val_path = 'Project_data/val'\n",
    "num_train_sequences = len(train_doc)\n",
    "print('# training sequences =', num_train_sequences)\n",
    "num_val_sequences = len(val_doc)\n",
    "print('# validation sequences =', num_val_sequences)\n",
    "num_epochs = 50 # choose the number of epochs\n",
    "print ('# epochs =', num_epochs)"
   ]
  },
  {
   "cell_type": "markdown",
   "metadata": {},
   "source": [
    "## Model\n",
    "Here you make the model using different functionalities that Keras provides. Remember to use `Conv3D` and `MaxPooling3D` and not `Conv2D` and `Maxpooling2D` for a 3D convolution model. You would want to use `TimeDistributed` while building a Conv2D + RNN model. Also remember that the last layer is the softmax. Design the network in such a way that the model is able to give good accuracy on the least number of parameters so that it can fit in the memory of the webcam."
   ]
  },
  {
   "cell_type": "code",
   "execution_count": 10,
   "metadata": {},
   "outputs": [],
   "source": [
    "# from keras.models import Sequential, Model\n",
    "# from keras.layers import Dense, GRU, LSTM, Flatten, TimeDistributed, Flatten, BatchNormalization, Activation, Dropout\n",
    "# from keras.layers.convolutional import Conv3D, MaxPooling3D, Conv2D, MaxPooling2D\n",
    "# from keras.callbacks import ModelCheckpoint, ReduceLROnPlateau, EarlyStopping\n",
    "# from keras import optimizers\n",
    "\n",
    "# #write your model here\n",
    "# #Aditya\n",
    "\n",
    "# NUM_CLASSES = 5\n",
    "\n",
    "# # With Conv3D\n",
    "# input_shape = (len(interval),img_size,img_size,3)\n",
    "# model = Sequential()\n",
    "# model.add(Conv3D(32, kernel_size=(2, 3, 3), activation='relu', padding='same', input_shape=input_shape))\n",
    "# model.add(Conv3D(32, kernel_size=(2, 3, 3), activation='relu', padding='same'))\n",
    "# model.add(MaxPooling3D(pool_size=(1, 2, 2)))\n",
    "\n",
    "# # model.add(BatchNormalization())\n",
    "# model.add(Dropout(0.25))\n",
    "\n",
    "# model.add(Conv3D(64, kernel_size=(2, 3, 3), activation='relu'))\n",
    "# model.add(Conv3D(64, kernel_size=(2, 3, 3), activation='relu'))\n",
    "# model.add(MaxPooling3D(pool_size=(1, 2, 2)))\n",
    "\n",
    "# model.add(Dropout(0.25))\n",
    "\n",
    "# # model.add(Conv3D(128, kernel_size=(2, 3, 3), activation='relu', padding='same'))\n",
    "# # model.add(Conv3D(128, kernel_size=(2, 3, 3), activation='relu', padding='same'))\n",
    "# # model.add(Dropout(0.25))\n",
    "\n",
    "# model.add(Flatten())\n",
    "\n",
    "# # model.add(Dense(264, activation='relu'))\n",
    "# # model.add(Dropout(0.25))\n",
    "\n",
    "# # model.add(Dense(264, activation='relu'))\n",
    "# # model.add(Dropout(0.25))\n",
    "\n",
    "# model.add(Dense(NUM_CLASSES, activation='softmax'))\n",
    "\n",
    "# print (model.summary())"
   ]
  },
  {
   "cell_type": "code",
   "execution_count": 11,
   "metadata": {},
   "outputs": [
    {
     "data": {
      "text/plain": [
       "16"
      ]
     },
     "execution_count": 11,
     "metadata": {},
     "output_type": "execute_result"
    }
   ],
   "source": [
    "len(interval)"
   ]
  },
  {
   "cell_type": "code",
   "execution_count": 12,
   "metadata": {},
   "outputs": [
    {
     "name": "stdout",
     "output_type": "stream",
     "text": [
      "WARNING:tensorflow:From C:\\Users\\adi00\\Anaconda3\\lib\\site-packages\\keras\\backend\\tensorflow_backend.py:72: The name tf.get_default_graph is deprecated. Please use tf.compat.v1.get_default_graph instead.\n",
      "\n",
      "WARNING:tensorflow:From C:\\Users\\adi00\\Anaconda3\\lib\\site-packages\\keras\\backend\\tensorflow_backend.py:515: The name tf.placeholder is deprecated. Please use tf.compat.v1.placeholder instead.\n",
      "\n",
      "WARNING:tensorflow:From C:\\Users\\adi00\\Anaconda3\\lib\\site-packages\\keras\\backend\\tensorflow_backend.py:4048: The name tf.random_uniform is deprecated. Please use tf.random.uniform instead.\n",
      "\n",
      "WARNING:tensorflow:From C:\\Users\\adi00\\Anaconda3\\lib\\site-packages\\keras\\backend\\tensorflow_backend.py:131: The name tf.placeholder_with_default is deprecated. Please use tf.compat.v1.placeholder_with_default instead.\n",
      "\n",
      "_________________________________________________________________\n",
      "Layer (type)                 Output Shape              Param #   \n",
      "=================================================================\n",
      "conv3d_1 (Conv3D)            (None, 16, 150, 150, 16)  400       \n",
      "_________________________________________________________________\n",
      "activation_1 (Activation)    (None, 16, 150, 150, 16)  0         \n",
      "_________________________________________________________________\n",
      "batch_normalization_1 (Batch (None, 16, 150, 150, 16)  64        \n",
      "_________________________________________________________________\n",
      "max_pooling3d_1 (MaxPooling3 (None, 8, 75, 75, 16)     0         \n",
      "_________________________________________________________________\n",
      "conv3d_2 (Conv3D)            (None, 8, 75, 75, 32)     4128      \n",
      "_________________________________________________________________\n",
      "activation_2 (Activation)    (None, 8, 75, 75, 32)     0         \n",
      "_________________________________________________________________\n",
      "batch_normalization_2 (Batch (None, 8, 75, 75, 32)     128       \n",
      "_________________________________________________________________\n",
      "max_pooling3d_2 (MaxPooling3 (None, 4, 37, 37, 32)     0         \n",
      "_________________________________________________________________\n",
      "conv3d_3 (Conv3D)            (None, 4, 37, 37, 64)     16448     \n",
      "_________________________________________________________________\n",
      "activation_3 (Activation)    (None, 4, 37, 37, 64)     0         \n",
      "_________________________________________________________________\n",
      "batch_normalization_3 (Batch (None, 4, 37, 37, 64)     256       \n",
      "_________________________________________________________________\n",
      "max_pooling3d_3 (MaxPooling3 (None, 2, 18, 18, 64)     0         \n",
      "=================================================================\n",
      "Total params: 21,424\n",
      "Trainable params: 21,200\n",
      "Non-trainable params: 224\n",
      "_________________________________________________________________\n",
      "None\n",
      "WARNING:tensorflow:From C:\\Users\\adi00\\Anaconda3\\lib\\site-packages\\keras\\backend\\tensorflow_backend.py:3368: calling dropout (from tensorflow.python.ops.nn_ops) with keep_prob is deprecated and will be removed in a future version.\n",
      "Instructions for updating:\n",
      "Please use `rate` instead of `keep_prob`. Rate should be set to `rate = 1 - keep_prob`.\n"
     ]
    }
   ],
   "source": [
    "from keras.models import Sequential, Model\n",
    "from keras.layers import Dense, GRU, LSTM, Flatten, TimeDistributed, Flatten, BatchNormalization, Activation, Dropout\n",
    "from keras.layers.convolutional import Conv3D, MaxPooling3D, Conv2D, MaxPooling2D\n",
    "from keras.callbacks import ModelCheckpoint, ReduceLROnPlateau, EarlyStopping\n",
    "from keras import optimizers\n",
    "\n",
    "#write your model here\n",
    "#Aditya\n",
    "\n",
    "NUM_CLASSES = 5\n",
    "filtersize = (2, 2, 2)\n",
    "dense_neurons = 256\n",
    "dropout = 0.5\n",
    "input_shape = (len(interval),img_size,img_size,3)\n",
    "\n",
    "\n",
    "model = Sequential()\n",
    "model.add(Conv3D(16, filtersize, padding='same',\n",
    "         input_shape=input_shape))\n",
    "model.add(Activation('relu'))\n",
    "model.add(BatchNormalization())\n",
    "model.add(MaxPooling3D(pool_size=(2, 2, 2)))\n",
    "\n",
    "model.add(Conv3D(32, filtersize, padding='same'))\n",
    "model.add(Activation('relu'))\n",
    "model.add(BatchNormalization())\n",
    "model.add(MaxPooling3D(pool_size=(2, 2, 2)))\n",
    "\n",
    "model.add(Conv3D(64, filtersize, padding='same'))\n",
    "model.add(Activation('relu'))\n",
    "model.add(BatchNormalization())\n",
    "model.add(MaxPooling3D(pool_size=(2, 2, 2)))\n",
    "\n",
    "model.add(Conv3D(128, filtersize, padding='same'))\n",
    "model.add(Activation('relu'))\n",
    "model.add(BatchNormalization())\n",
    "model.add(MaxPooling3D(pool_size=(2, 2, 2)))\n",
    "\n",
    "\n",
    "\n",
    "model.add(Flatten())\n",
    "model.add(Dense(dense_neurons,activation='relu'))\n",
    "model.add(BatchNormalization())\n",
    "model.add(Dropout(dropout))\n",
    "\n",
    "model.add(Dense(dense_neurons,activation='relu'))\n",
    "model.add(BatchNormalization())\n",
    "model.add(Dropout(dropout))\n",
    "\n",
    "\n",
    "model.add(Dense(NUM_CLASSES,activation='softmax'))"
   ]
  },
  {
   "cell_type": "code",
   "execution_count": 13,
   "metadata": {},
   "outputs": [],
   "source": [
    "# model = Sequential()\n",
    "\n",
    "# model.add(TimeDistributed(Conv2D(32, (7, 7), strides=(2, 2),\n",
    "#     activation='relu', padding='same'), input_shape=input_shape))\n",
    "# model.add(TimeDistributed(Conv2D(32, (3,3),\n",
    "#     kernel_initializer=\"he_normal\", activation='relu')))\n",
    "# model.add(TimeDistributed(MaxPooling2D((2, 2), strides=(2, 2))))\n",
    "\n",
    "# model.add(TimeDistributed(Conv2D(64, (3,3),\n",
    "#     padding='same', activation='relu')))\n",
    "# model.add(TimeDistributed(Conv2D(64, (3,3),\n",
    "#     padding='same', activation='relu')))\n",
    "# model.add(TimeDistributed(MaxPooling2D((2, 2), strides=(2, 2))))\n",
    "\n",
    "# model.add(TimeDistributed(Conv2D(128, (3,3),\n",
    "#     padding='same', activation='relu')))\n",
    "# model.add(TimeDistributed(Conv2D(128, (3,3),\n",
    "#     padding='same', activation='relu')))\n",
    "# model.add(TimeDistributed(MaxPooling2D((2, 2), strides=(2, 2))))\n",
    "\n",
    "# model.add(TimeDistributed(Conv2D(256, (3,3),\n",
    "#     padding='same', activation='relu')))\n",
    "# model.add(TimeDistributed(Conv2D(256, (3,3),\n",
    "#     padding='same', activation='relu')))\n",
    "# model.add(TimeDistributed(MaxPooling2D((2, 2), strides=(2, 2))))\n",
    "\n",
    "# model.add(TimeDistributed(Conv2D(512, (3,3),\n",
    "#     padding='same', activation='relu')))\n",
    "# model.add(TimeDistributed(Conv2D(512, (3,3),\n",
    "#     padding='same', activation='relu')))\n",
    "# model.add(TimeDistributed(MaxPooling2D((2, 2), strides=(2, 2))))\n",
    "\n",
    "# model.add(TimeDistributed(Flatten()))\n",
    "\n",
    "# model.add(Dropout(0.5))\n",
    "# model.add(LSTM(256, return_sequences=False, dropout=0.5))\n",
    "# model.add(Dense(NUM_CLASSES, activation='softmax'))"
   ]
  },
  {
   "cell_type": "markdown",
   "metadata": {},
   "source": [
    "Now that you have written the model, the next step is to `compile` the model. When you print the `summary` of the model, you'll see the total number of parameters you have to train."
   ]
  },
  {
   "cell_type": "code",
   "execution_count": 14,
   "metadata": {
    "scrolled": true
   },
   "outputs": [
    {
     "name": "stdout",
     "output_type": "stream",
     "text": [
      "WARNING:tensorflow:From C:\\Users\\adi00\\Anaconda3\\lib\\site-packages\\keras\\optimizers.py:782: The name tf.train.Optimizer is deprecated. Please use tf.compat.v1.train.Optimizer instead.\n",
      "\n",
      "WARNING:tensorflow:From C:\\Users\\adi00\\Anaconda3\\lib\\site-packages\\keras\\backend\\tensorflow_backend.py:3218: The name tf.log is deprecated. Please use tf.math.log instead.\n",
      "\n",
      "_________________________________________________________________\n",
      "Layer (type)                 Output Shape              Param #   \n",
      "=================================================================\n",
      "conv3d_1 (Conv3D)            (None, 16, 150, 150, 16)  400       \n",
      "_________________________________________________________________\n",
      "activation_1 (Activation)    (None, 16, 150, 150, 16)  0         \n",
      "_________________________________________________________________\n",
      "batch_normalization_1 (Batch (None, 16, 150, 150, 16)  64        \n",
      "_________________________________________________________________\n",
      "max_pooling3d_1 (MaxPooling3 (None, 8, 75, 75, 16)     0         \n",
      "_________________________________________________________________\n",
      "conv3d_2 (Conv3D)            (None, 8, 75, 75, 32)     4128      \n",
      "_________________________________________________________________\n",
      "activation_2 (Activation)    (None, 8, 75, 75, 32)     0         \n",
      "_________________________________________________________________\n",
      "batch_normalization_2 (Batch (None, 8, 75, 75, 32)     128       \n",
      "_________________________________________________________________\n",
      "max_pooling3d_2 (MaxPooling3 (None, 4, 37, 37, 32)     0         \n",
      "_________________________________________________________________\n",
      "conv3d_3 (Conv3D)            (None, 4, 37, 37, 64)     16448     \n",
      "_________________________________________________________________\n",
      "activation_3 (Activation)    (None, 4, 37, 37, 64)     0         \n",
      "_________________________________________________________________\n",
      "batch_normalization_3 (Batch (None, 4, 37, 37, 64)     256       \n",
      "_________________________________________________________________\n",
      "max_pooling3d_3 (MaxPooling3 (None, 2, 18, 18, 64)     0         \n",
      "_________________________________________________________________\n",
      "conv3d_4 (Conv3D)            (None, 2, 18, 18, 128)    65664     \n",
      "_________________________________________________________________\n",
      "activation_4 (Activation)    (None, 2, 18, 18, 128)    0         \n",
      "_________________________________________________________________\n",
      "batch_normalization_4 (Batch (None, 2, 18, 18, 128)    512       \n",
      "_________________________________________________________________\n",
      "max_pooling3d_4 (MaxPooling3 (None, 1, 9, 9, 128)      0         \n",
      "_________________________________________________________________\n",
      "flatten_1 (Flatten)          (None, 10368)             0         \n",
      "_________________________________________________________________\n",
      "dense_1 (Dense)              (None, 256)               2654464   \n",
      "_________________________________________________________________\n",
      "batch_normalization_5 (Batch (None, 256)               1024      \n",
      "_________________________________________________________________\n",
      "dropout_1 (Dropout)          (None, 256)               0         \n",
      "_________________________________________________________________\n",
      "dense_2 (Dense)              (None, 256)               65792     \n",
      "_________________________________________________________________\n",
      "batch_normalization_6 (Batch (None, 256)               1024      \n",
      "_________________________________________________________________\n",
      "dropout_2 (Dropout)          (None, 256)               0         \n",
      "_________________________________________________________________\n",
      "dense_3 (Dense)              (None, 5)                 1285      \n",
      "=================================================================\n",
      "Total params: 2,811,189\n",
      "Trainable params: 2,809,685\n",
      "Non-trainable params: 1,504\n",
      "_________________________________________________________________\n",
      "None\n"
     ]
    }
   ],
   "source": [
    "learning_rate = 0.0002\n",
    "optimiser = optimizers.Adam(lr=learning_rate) #write your optimizer\n",
    "model.compile(optimizer=optimiser, loss='categorical_crossentropy', metrics=['categorical_accuracy'])\n",
    "print (model.summary())"
   ]
  },
  {
   "cell_type": "markdown",
   "metadata": {},
   "source": [
    "Let us create the `train_generator` and the `val_generator` which will be used in `.fit_generator`."
   ]
  },
  {
   "cell_type": "code",
   "execution_count": null,
   "metadata": {},
   "outputs": [],
   "source": []
  },
  {
   "cell_type": "code",
   "execution_count": 15,
   "metadata": {},
   "outputs": [],
   "source": [
    "model_name = 'model_init' + '_' + str(curr_dt_time).replace(' ','').replace(':','_') + '/'\n",
    "    \n",
    "if not os.path.exists(model_name):\n",
    "    os.mkdir(model_name)\n",
    "        \n",
    "filepath = model_name + 'model-{epoch:05d}-{loss:.5f}-{categorical_accuracy:.5f}-{val_loss:.5f}-{val_categorical_accuracy:.5f}.h5'\n",
    "\n",
    "checkpoint = ModelCheckpoint(filepath, monitor='val_loss', verbose=1, save_best_only=False, save_weights_only=False, mode='auto', period=1)\n",
    "\n",
    "LR = ReduceLROnPlateau(monitor='val_loss', factor=0.2,verbose=1,\n",
    "                              patience=5, min_lr=0.0001)# write the REducelronplateau code here\n",
    "\n",
    "ES = EarlyStopping(\n",
    "    monitor=\"val_loss\",\n",
    "    min_delta=0.001,\n",
    "    patience=10,\n",
    "    mode=\"auto\",\n",
    "    verbose=1\n",
    ")\n",
    "\n",
    "callbacks_list = [checkpoint, LR, ES]"
   ]
  },
  {
   "cell_type": "markdown",
   "metadata": {},
   "source": [
    "The `steps_per_epoch` and `validation_steps` are used by `fit_generator` to decide the number of next() calls it need to make."
   ]
  },
  {
   "cell_type": "code",
   "execution_count": 16,
   "metadata": {},
   "outputs": [],
   "source": [
    "if (num_train_sequences%batch_size) == 0:\n",
    "    steps_per_epoch = int(num_train_sequences/batch_size)\n",
    "else:\n",
    "    steps_per_epoch = (num_train_sequences//batch_size) + 1\n",
    "\n",
    "if (num_val_sequences%batch_size) == 0:\n",
    "    validation_steps = int(num_val_sequences/batch_size)\n",
    "else:\n",
    "    validation_steps = (num_val_sequences//batch_size) + 1"
   ]
  },
  {
   "cell_type": "markdown",
   "metadata": {},
   "source": [
    "Let us now fit the model. This will start training the model and with the help of the checkpoints, you'll be able to save the model at the end of each epoch."
   ]
  },
  {
   "cell_type": "code",
   "execution_count": 17,
   "metadata": {},
   "outputs": [],
   "source": [
    "# # Try ablation\n",
    "\n",
    "# train_generator = generator(train_path, train_doc, batch_size, ablation_size=100)\n",
    "# val_generator = generator(val_path, val_doc, batch_size)\n",
    "\n",
    "# model.fit_generator(train_generator, steps_per_epoch=steps_per_epoch, epochs=5, verbose=1, \n",
    "#                     callbacks=callbacks_list, validation_data=val_generator, \n",
    "#                     validation_steps=validation_steps, class_weight=None, workers=1, initial_epoch=0)"
   ]
  },
  {
   "cell_type": "code",
   "execution_count": null,
   "metadata": {},
   "outputs": [
    {
     "name": "stdout",
     "output_type": "stream",
     "text": [
      "WARNING:tensorflow:From C:\\Users\\adi00\\Anaconda3\\lib\\site-packages\\tensorflow\\python\\ops\\math_grad.py:1250: add_dispatch_support.<locals>.wrapper (from tensorflow.python.ops.array_ops) is deprecated and will be removed in a future version.\n",
      "Instructions for updating:\n",
      "Use tf.where in 2.0, which has the same broadcast rule as np.where\n",
      "Source path = Source path =  Epoch 1/50Project_data/val ; batch size = 3\n",
      "\n",
      " Project_data/train ; batch size = 3\n"
     ]
    },
    {
     "name": "stderr",
     "output_type": "stream",
     "text": [
      "C:\\Users\\adi00\\Anaconda3\\lib\\site-packages\\ipykernel_launcher.py:24: DeprecationWarning: `imread` is deprecated!\n",
      "`imread` is deprecated in SciPy 1.0.0, and will be removed in 1.2.0.\n",
      "Use ``imageio.imread`` instead.\n",
      "C:\\Users\\adi00\\Anaconda3\\lib\\site-packages\\ipykernel_launcher.py:43: DeprecationWarning: `imresize` is deprecated!\n",
      "`imresize` is deprecated in SciPy 1.0.0, and will be removed in 1.2.0.\n",
      "Use ``skimage.transform.resize`` instead.\n",
      "C:\\Users\\adi00\\Anaconda3\\lib\\site-packages\\ipykernel_launcher.py:44: DeprecationWarning: `imresize` is deprecated!\n",
      "`imresize` is deprecated in SciPy 1.0.0, and will be removed in 1.2.0.\n",
      "Use ``skimage.transform.resize`` instead.\n"
     ]
    },
    {
     "name": "stdout",
     "output_type": "stream",
     "text": [
      "220/221 [============================>.] - ETA: 1s - loss: 2.2650 - categorical_accuracy: 0.3030"
     ]
    },
    {
     "name": "stderr",
     "output_type": "stream",
     "text": [
      "C:\\Users\\adi00\\Anaconda3\\lib\\site-packages\\ipykernel_launcher.py:84: DeprecationWarning: `imread` is deprecated!\n",
      "`imread` is deprecated in SciPy 1.0.0, and will be removed in 1.2.0.\n",
      "Use ``imageio.imread`` instead.\n",
      "C:\\Users\\adi00\\Anaconda3\\lib\\site-packages\\ipykernel_launcher.py:100: DeprecationWarning: `imresize` is deprecated!\n",
      "`imresize` is deprecated in SciPy 1.0.0, and will be removed in 1.2.0.\n",
      "Use ``skimage.transform.resize`` instead.\n",
      "C:\\Users\\adi00\\Anaconda3\\lib\\site-packages\\ipykernel_launcher.py:101: DeprecationWarning: `imresize` is deprecated!\n",
      "`imresize` is deprecated in SciPy 1.0.0, and will be removed in 1.2.0.\n",
      "Use ``skimage.transform.resize`` instead.\n"
     ]
    },
    {
     "name": "stdout",
     "output_type": "stream",
     "text": [
      "221/221 [==============================] - 327s 1s/step - loss: 2.2644 - categorical_accuracy: 0.3032 - val_loss: 1.1730 - val_categorical_accuracy: 0.5600\n",
      "\n",
      "Epoch 00001: saving model to model_init_2020-12-2319_04_32.973963/model-00001-2.26442-0.30317-1.17298-0.56000.h5\n",
      "Epoch 2/50\n",
      "221/221 [==============================] - 280s 1s/step - loss: 1.7340 - categorical_accuracy: 0.4118 - val_loss: 1.4332 - val_categorical_accuracy: 0.4650\n",
      "\n",
      "Epoch 00002: saving model to model_init_2020-12-2319_04_32.973963/model-00002-1.73404-0.41176-1.43321-0.46500.h5\n",
      "Epoch 3/50\n",
      "221/221 [==============================] - 274s 1s/step - loss: 1.5877 - categorical_accuracy: 0.4525 - val_loss: 0.8977 - val_categorical_accuracy: 0.6550\n",
      "\n",
      "Epoch 00003: saving model to model_init_2020-12-2319_04_32.973963/model-00003-1.58773-0.45249-0.89770-0.65500.h5\n",
      "Epoch 4/50\n",
      "221/221 [==============================] - 286s 1s/step - loss: 1.4594 - categorical_accuracy: 0.4879 - val_loss: 1.0140 - val_categorical_accuracy: 0.6700\n",
      "\n",
      "Epoch 00004: saving model to model_init_2020-12-2319_04_32.973963/model-00004-1.45937-0.48793-1.01395-0.67000.h5\n",
      "Epoch 5/50\n",
      "221/221 [==============================] - 270s 1s/step - loss: 1.3934 - categorical_accuracy: 0.5128 - val_loss: 0.8276 - val_categorical_accuracy: 0.6800\n",
      "\n",
      "Epoch 00005: saving model to model_init_2020-12-2319_04_32.973963/model-00005-1.39338-0.51282-0.82762-0.68000.h5\n",
      "Epoch 6/50\n",
      "221/221 [==============================] - 289s 1s/step - loss: 1.2801 - categorical_accuracy: 0.5415 - val_loss: 0.7348 - val_categorical_accuracy: 0.7650\n",
      "\n",
      "Epoch 00006: saving model to model_init_2020-12-2319_04_32.973963/model-00006-1.28011-0.54148-0.73484-0.76500.h5\n",
      "Epoch 7/50\n",
      "221/221 [==============================] - 321s 1s/step - loss: 1.2120 - categorical_accuracy: 0.5867 - val_loss: 0.7609 - val_categorical_accuracy: 0.7150\n",
      "\n",
      "Epoch 00007: saving model to model_init_2020-12-2319_04_32.973963/model-00007-1.21203-0.58673-0.76090-0.71500.h5\n",
      "Epoch 8/50\n",
      "221/221 [==============================] - 302s 1s/step - loss: 1.1557 - categorical_accuracy: 0.5897 - val_loss: 0.6831 - val_categorical_accuracy: 0.7950\n",
      "\n",
      "Epoch 00008: saving model to model_init_2020-12-2319_04_32.973963/model-00008-1.15566-0.58974-0.68309-0.79500.h5\n",
      "Epoch 9/50\n",
      "221/221 [==============================] - 315s 1s/step - loss: 1.1177 - categorical_accuracy: 0.6161 - val_loss: 0.6964 - val_categorical_accuracy: 0.7050\n",
      "\n",
      "Epoch 00009: saving model to model_init_2020-12-2319_04_32.973963/model-00009-1.11772-0.61614-0.69641-0.70500.h5\n",
      "Epoch 10/50\n",
      "221/221 [==============================] - 303s 1s/step - loss: 1.0199 - categorical_accuracy: 0.6433 - val_loss: 0.6910 - val_categorical_accuracy: 0.7300\n",
      "\n",
      "Epoch 00010: saving model to model_init_2020-12-2319_04_32.973963/model-00010-1.01990-0.64329-0.69098-0.73000.h5\n",
      "Epoch 11/50\n",
      "221/221 [==============================] - 362s 2s/step - loss: 0.9814 - categorical_accuracy: 0.6501 - val_loss: 0.7505 - val_categorical_accuracy: 0.7400\n",
      "\n",
      "Epoch 00011: saving model to model_init_2020-12-2319_04_32.973963/model-00011-0.98138-0.65008-0.75048-0.74000.h5\n",
      "Epoch 12/50\n",
      "221/221 [==============================] - 302s 1s/step - loss: 1.1007 - categorical_accuracy: 0.6305 - val_loss: 0.6120 - val_categorical_accuracy: 0.7850\n",
      "\n",
      "Epoch 00012: saving model to model_init_2020-12-2319_04_32.973963/model-00012-1.10074-0.63047-0.61205-0.78500.h5\n",
      "Epoch 13/50\n",
      "221/221 [==============================] - 285s 1s/step - loss: 0.8884 - categorical_accuracy: 0.6810 - val_loss: 0.5423 - val_categorical_accuracy: 0.8250\n",
      "\n",
      "Epoch 00013: saving model to model_init_2020-12-2319_04_32.973963/model-00013-0.88839-0.68100-0.54234-0.82500.h5\n",
      "Epoch 14/50\n",
      "221/221 [==============================] - 270s 1s/step - loss: 0.9298 - categorical_accuracy: 0.6772 - val_loss: 0.5058 - val_categorical_accuracy: 0.8100\n",
      "\n",
      "Epoch 00014: saving model to model_init_2020-12-2319_04_32.973963/model-00014-0.92977-0.67722-0.50578-0.81000.h5\n",
      "Epoch 15/50\n",
      "221/221 [==============================] - 304s 1s/step - loss: 0.8783 - categorical_accuracy: 0.6735 - val_loss: 0.5823 - val_categorical_accuracy: 0.7800\n",
      "\n",
      "Epoch 00015: saving model to model_init_2020-12-2319_04_32.973963/model-00015-0.87832-0.67345-0.58231-0.78000.h5\n",
      "Epoch 16/50\n",
      "221/221 [==============================] - 273s 1s/step - loss: 0.8791 - categorical_accuracy: 0.6961 - val_loss: 0.5542 - val_categorical_accuracy: 0.8100\n",
      "\n",
      "Epoch 00016: saving model to model_init_2020-12-2319_04_32.973963/model-00016-0.87906-0.69608-0.55415-0.81000.h5\n",
      "Epoch 17/50\n",
      "221/221 [==============================] - 268s 1s/step - loss: 0.7762 - categorical_accuracy: 0.7217 - val_loss: 0.4594 - val_categorical_accuracy: 0.8600\n",
      "\n",
      "Epoch 00017: saving model to model_init_2020-12-2319_04_32.973963/model-00017-0.77624-0.72172-0.45942-0.86000.h5\n",
      "Epoch 18/50\n",
      "221/221 [==============================] - 268s 1s/step - loss: 0.8242 - categorical_accuracy: 0.7134 - val_loss: 0.5107 - val_categorical_accuracy: 0.8300\n",
      "\n",
      "Epoch 00018: saving model to model_init_2020-12-2319_04_32.973963/model-00018-0.82420-0.71342-0.51069-0.83000.h5\n",
      "Epoch 19/50\n",
      "221/221 [==============================] - 275s 1s/step - loss: 0.8672 - categorical_accuracy: 0.6946 - val_loss: 0.7762 - val_categorical_accuracy: 0.7250\n",
      "\n",
      "Epoch 00019: saving model to model_init_2020-12-2319_04_32.973963/model-00019-0.86718-0.69457-0.77620-0.72500.h5\n",
      "Epoch 20/50\n",
      "221/221 [==============================] - 308s 1s/step - loss: 0.8058 - categorical_accuracy: 0.7006 - val_loss: 0.6682 - val_categorical_accuracy: 0.7900\n",
      "\n",
      "Epoch 00020: saving model to model_init_2020-12-2319_04_32.973963/model-00020-0.80577-0.70060-0.66819-0.79000.h5\n",
      "Epoch 21/50\n",
      "221/221 [==============================] - 281s 1s/step - loss: 0.7981 - categorical_accuracy: 0.7187 - val_loss: 0.5915 - val_categorical_accuracy: 0.7850\n",
      "\n",
      "Epoch 00021: saving model to model_init_2020-12-2319_04_32.973963/model-00021-0.79814-0.71870-0.59147-0.78500.h5\n",
      "Epoch 22/50\n",
      " 73/221 [========>.....................] - ETA: 2:43 - loss: 0.6382 - categorical_accuracy: 0.7763"
     ]
    }
   ],
   "source": [
    "# Ablation shows good improvement. Lets run for entire train data\n",
    "\n",
    "train_generator = generator(train_path, train_doc, batch_size, augmentation=True)\n",
    "val_generator = generator(val_path, val_doc, batch_size)\n",
    "\n",
    "model.fit_generator(train_generator, steps_per_epoch=steps_per_epoch, epochs=num_epochs, verbose=1, \n",
    "                    callbacks=callbacks_list, validation_data=val_generator, \n",
    "                    validation_steps=validation_steps, class_weight=None, workers=1, initial_epoch=0)"
   ]
  },
  {
   "cell_type": "raw",
   "metadata": {},
   "source": [
    "Shiva (sgd, LR = 0.01, 0.001, 0.0001, BatchSize = 20,40,60/50, Frames=16,10)\n",
    "3 Without augmentation (no brightness adjust, no rotation)\n",
    "16,32,64,128\n",
    "16,16,32,23,64,64,128,128\n",
    "8,16,32,64\n",
    "\n",
    "3 with augmentation (brightness, rotation, *warpaffine)\n",
    "**16,32,64,128**\n",
    "16,16,32,23,64,64,128,128\n",
    "8,16,32,64\n",
    "\n",
    "Aditya (adam, LR = 0.01, 0.001, 0.0001, BatchSize = 20,40,60/50, Frames=16,10)\n",
    "3 Without augmentation (no brightness adjust, no rotation)\n",
    "16,32,64,128\n",
    "16,16,32,23,64,64,128,128\n",
    "8,16,32,64\n",
    "\n",
    "3 with augmentation (brightness, rotation, *warpaffine)\n",
    "**16,32,64,128**\n",
    "16,16,32,23,64,64,128,128\n",
    "8,16,32,64\n",
    "\n",
    "Later\n",
    "LSTM,GRU - 5\n",
    "Image Difference"
   ]
  },
  {
   "cell_type": "code",
   "execution_count": null,
   "metadata": {},
   "outputs": [],
   "source": []
  },
  {
   "cell_type": "code",
   "execution_count": null,
   "metadata": {},
   "outputs": [],
   "source": []
  },
  {
   "cell_type": "code",
   "execution_count": null,
   "metadata": {},
   "outputs": [],
   "source": []
  }
 ],
 "metadata": {
  "kernelspec": {
   "display_name": "Python 3",
   "language": "python",
   "name": "python3"
  },
  "language_info": {
   "codemirror_mode": {
    "name": "ipython",
    "version": 3
   },
   "file_extension": ".py",
   "mimetype": "text/x-python",
   "name": "python",
   "nbconvert_exporter": "python",
   "pygments_lexer": "ipython3",
   "version": "3.7.4"
  }
 },
 "nbformat": 4,
 "nbformat_minor": 2
}
